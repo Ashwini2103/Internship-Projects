{
 "cells": [
  {
   "cell_type": "code",
   "execution_count": null,
   "metadata": {},
   "outputs": [],
   "source": [
    "import pandas as pd\n",
    "import spacy"
   ]
  },
  {
   "cell_type": "code",
   "execution_count": 4,
   "metadata": {},
   "outputs": [],
   "source": [
    "# Specified Location of the text file \n",
    "text_path = \"E:\\\\test2.txt\""
   ]
  },
  {
   "cell_type": "code",
   "execution_count": 5,
   "metadata": {},
   "outputs": [],
   "source": [
    "# Importing interactiveshell module from IPython Kernel\n",
    "from IPython.core.interactiveshell import InteractiveShell\n",
    "InteractiveShell.ast_node_interactivity = \"all\""
   ]
  },
  {
   "cell_type": "code",
   "execution_count": 6,
   "metadata": {},
   "outputs": [],
   "source": [
    "# Reading the text file\n",
    "with open(text_path,encoding=\"utf-8\",errors='ignore') as f:\n",
    "    paragraph=f.read()"
   ]
  },
  {
   "cell_type": "code",
   "execution_count": 7,
   "metadata": {},
   "outputs": [
    {
     "data": {
      "text/plain": [
       "'iron is mixed  ith other  metals  like  tin  and  lead to prevent  rusting\\n'"
      ]
     },
     "execution_count": 7,
     "metadata": {},
     "output_type": "execute_result"
    }
   ],
   "source": [
    "# Printing the paragraph\n",
    "paragraph"
   ]
  },
  {
   "cell_type": "code",
   "execution_count": 31,
   "metadata": {},
   "outputs": [],
   "source": [
    "# Loading the spacy 'model_class' and creating a document from paragraph\n",
    "nlp=spacy.load('en')\n",
    "doc=nlp(paragraph)"
   ]
  },
  {
   "cell_type": "code",
   "execution_count": 32,
   "metadata": {},
   "outputs": [],
   "source": [
    "# Adding sentences to the list/ array\n",
    "sentences=[]\n",
    "for sent in doc.sents:\n",
    "        sentences.append(sent)\n",
    "       "
   ]
  },
  {
   "cell_type": "code",
   "execution_count": 33,
   "metadata": {},
   "outputs": [
    {
     "name": "stdout",
     "output_type": "stream",
     "text": [
      "Length of sentences in the text 1\n"
     ]
    }
   ],
   "source": [
    "print(\"Length of sentences in the text\",len(sentences))"
   ]
  },
  {
   "cell_type": "code",
   "execution_count": 34,
   "metadata": {},
   "outputs": [],
   "source": [
    "# Adding the words to list word_count\n",
    "word_count=[]\n",
    "for sentence_num,sentence in enumerate(sentences):\n",
    "    for token_num,token in enumerate(sentence):\n",
    "        if token.is_alpha:\n",
    "            word_count.append(token)"
   ]
  },
  {
   "cell_type": "code",
   "execution_count": 35,
   "metadata": {},
   "outputs": [
    {
     "name": "stdout",
     "output_type": "stream",
     "text": [
      "Length of words in the text 13\n"
     ]
    }
   ],
   "source": [
    "print(\"Length of words in the text\",len(word_count))"
   ]
  },
  {
   "cell_type": "code",
   "execution_count": 36,
   "metadata": {},
   "outputs": [
    {
     "data": {
      "text/plain": [
       "13.0"
      ]
     },
     "execution_count": 36,
     "metadata": {},
     "output_type": "execute_result"
    }
   ],
   "source": [
    "# Average number of words in a sentence\n",
    "avg_num=float(len(word_count)/len(sentences))\n",
    "avg_num"
   ]
  },
  {
   "cell_type": "code",
   "execution_count": 37,
   "metadata": {},
   "outputs": [],
   "source": [
    "# Usage of dictionary\n",
    "pos_dict={\"noun\": [], \"adjective\": [], \"verb\": [],\"adverb\":[],\"preposition\":[],\"pronoun\":[],\"auxilary\":[]}\n",
    "for word in word_count:\n",
    "    if word.pos_=='NOUN':\n",
    "        pos_dict[\"noun\"].append({word})\n",
    "    elif word.pos_ == 'ADJ':\n",
    "        pos_dict[\"adjective\"].append({word})\n",
    "    elif word.pos_ == 'VERB':\n",
    "        pos_dict[\"verb\"].append({word})\n",
    "    elif word.pos_=='ADV':\n",
    "        pos_dict[\"adverb\"].append({word})\n",
    "    elif word.pos_=='ADP':\n",
    "        pos_dict[\"preposition\"].append({word})\n",
    "    elif word.pos_=='PRON':\n",
    "        pos_dict[\"pronoun\"].append({word})\n",
    "    elif word.pos_=='AUX':\n",
    "        pos_dict[\"auxilary\"].append({word})"
   ]
  },
  {
   "cell_type": "code",
   "execution_count": 38,
   "metadata": {},
   "outputs": [
    {
     "data": {
      "text/plain": [
       "{'noun': [{iron}, {ith}, {metals}, {tin}, {lead}],\n",
       " 'adjective': [{mixed}, {other}],\n",
       " 'verb': [{is}, {prevent}, {rusting}],\n",
       " 'adverb': [],\n",
       " 'preposition': [{like}],\n",
       " 'pronoun': [],\n",
       " 'auxilary': []}"
      ]
     },
     "execution_count": 38,
     "metadata": {},
     "output_type": "execute_result"
    }
   ],
   "source": [
    "pos_dict"
   ]
  },
  {
   "cell_type": "code",
   "execution_count": 39,
   "metadata": {},
   "outputs": [
    {
     "data": {
      "text/html": [
       "<div>\n",
       "<style scoped>\n",
       "    .dataframe tbody tr th:only-of-type {\n",
       "        vertical-align: middle;\n",
       "    }\n",
       "\n",
       "    .dataframe tbody tr th {\n",
       "        vertical-align: top;\n",
       "    }\n",
       "\n",
       "    .dataframe thead th {\n",
       "        text-align: right;\n",
       "    }\n",
       "</style>\n",
       "<table border=\"1\" class=\"dataframe\">\n",
       "  <thead>\n",
       "    <tr style=\"text-align: right;\">\n",
       "      <th></th>\n",
       "      <th>noun</th>\n",
       "      <th>adjective</th>\n",
       "      <th>verb</th>\n",
       "      <th>adverb</th>\n",
       "      <th>preposition</th>\n",
       "      <th>pronoun</th>\n",
       "      <th>auxilary</th>\n",
       "    </tr>\n",
       "  </thead>\n",
       "  <tbody>\n",
       "    <tr>\n",
       "      <th>0</th>\n",
       "      <td>{iron}</td>\n",
       "      <td>{mixed}</td>\n",
       "      <td>{is}</td>\n",
       "      <td>NaN</td>\n",
       "      <td>{like}</td>\n",
       "      <td>NaN</td>\n",
       "      <td>NaN</td>\n",
       "    </tr>\n",
       "    <tr>\n",
       "      <th>1</th>\n",
       "      <td>{ith}</td>\n",
       "      <td>{other}</td>\n",
       "      <td>{prevent}</td>\n",
       "      <td>NaN</td>\n",
       "      <td>NaN</td>\n",
       "      <td>NaN</td>\n",
       "      <td>NaN</td>\n",
       "    </tr>\n",
       "    <tr>\n",
       "      <th>2</th>\n",
       "      <td>{metals}</td>\n",
       "      <td>NaN</td>\n",
       "      <td>{rusting}</td>\n",
       "      <td>NaN</td>\n",
       "      <td>NaN</td>\n",
       "      <td>NaN</td>\n",
       "      <td>NaN</td>\n",
       "    </tr>\n",
       "    <tr>\n",
       "      <th>3</th>\n",
       "      <td>{tin}</td>\n",
       "      <td>NaN</td>\n",
       "      <td>NaN</td>\n",
       "      <td>NaN</td>\n",
       "      <td>NaN</td>\n",
       "      <td>NaN</td>\n",
       "      <td>NaN</td>\n",
       "    </tr>\n",
       "    <tr>\n",
       "      <th>4</th>\n",
       "      <td>{lead}</td>\n",
       "      <td>NaN</td>\n",
       "      <td>NaN</td>\n",
       "      <td>NaN</td>\n",
       "      <td>NaN</td>\n",
       "      <td>NaN</td>\n",
       "      <td>NaN</td>\n",
       "    </tr>\n",
       "  </tbody>\n",
       "</table>\n",
       "</div>"
      ],
      "text/plain": [
       "       noun adjective       verb  adverb preposition  pronoun  auxilary\n",
       "0    {iron}   {mixed}       {is}     NaN      {like}      NaN       NaN\n",
       "1     {ith}   {other}  {prevent}     NaN         NaN      NaN       NaN\n",
       "2  {metals}       NaN  {rusting}     NaN         NaN      NaN       NaN\n",
       "3     {tin}       NaN        NaN     NaN         NaN      NaN       NaN\n",
       "4    {lead}       NaN        NaN     NaN         NaN      NaN       NaN"
      ]
     },
     "execution_count": 39,
     "metadata": {},
     "output_type": "execute_result"
    }
   ],
   "source": [
    "# Converting dictionary to pandas dataframe\n",
    "pos_df = pd.DataFrame( dict([(key,pd.Series(values)) for key,values in pos_dict.items()]))\n",
    "pos_df"
   ]
  },
  {
   "cell_type": "markdown",
   "metadata": {},
   "source": [
    "---"
   ]
  },
  {
   "cell_type": "code",
   "execution_count": 40,
   "metadata": {},
   "outputs": [
    {
     "data": {
      "text/plain": [
       "' Inorder to find out the weightage of informative words in the text, we find out the total no of words having content in it ( = content word)\\nto the total number of words in a text. These content words give us information what the text is all about. More precisely, content words\\nis all about noun, adjective, verb and adverbs.'"
      ]
     },
     "execution_count": 40,
     "metadata": {},
     "output_type": "execute_result"
    }
   ],
   "source": [
    "''' Inorder to find out the weightage of informative words in the text, we find out the total no of words having content in it ( = content word)\n",
    "to the total number of words in a text. These content words give us information what the text is all about. More precisely, content words\n",
    "is all about noun, adjective, verb and adverbs.'''\n",
    "\n"
   ]
  },
  {
   "cell_type": "code",
   "execution_count": 41,
   "metadata": {},
   "outputs": [
    {
     "data": {
      "text/plain": [
       "38.46153846153847"
      ]
     },
     "execution_count": 41,
     "metadata": {},
     "output_type": "execute_result"
    }
   ],
   "source": [
    "# Weightage of content words\n",
    "noun_density=(len(pos_dict['noun'])/len(word_count)) * 100\n",
    "noun_density"
   ]
  },
  {
   "cell_type": "code",
   "execution_count": 42,
   "metadata": {},
   "outputs": [
    {
     "data": {
      "text/plain": [
       "15.384615384615385"
      ]
     },
     "execution_count": 42,
     "metadata": {},
     "output_type": "execute_result"
    }
   ],
   "source": [
    "adj_density=(len(pos_dict['adjective'])/len(word_count)) * 100\n",
    "adj_density"
   ]
  },
  {
   "cell_type": "code",
   "execution_count": 43,
   "metadata": {},
   "outputs": [
    {
     "data": {
      "text/plain": [
       "23.076923076923077"
      ]
     },
     "execution_count": 43,
     "metadata": {},
     "output_type": "execute_result"
    }
   ],
   "source": [
    "verb_density=(len(pos_dict['verb'])/len(word_count)) * 100\n",
    "verb_density"
   ]
  },
  {
   "cell_type": "code",
   "execution_count": 44,
   "metadata": {},
   "outputs": [
    {
     "data": {
      "text/plain": [
       "0.0"
      ]
     },
     "execution_count": 44,
     "metadata": {},
     "output_type": "execute_result"
    }
   ],
   "source": [
    "adverb_density=(len(pos_dict['adverb'])/len(word_count)) * 100\n",
    "adverb_density"
   ]
  },
  {
   "cell_type": "code",
   "execution_count": 45,
   "metadata": {},
   "outputs": [
    {
     "data": {
      "text/plain": [
       "7.6923076923076925"
      ]
     },
     "execution_count": 45,
     "metadata": {},
     "output_type": "execute_result"
    }
   ],
   "source": [
    "prep_density=(len(pos_dict['preposition'])/len(word_count)) * 100\n",
    "prep_density"
   ]
  },
  {
   "cell_type": "code",
   "execution_count": 46,
   "metadata": {},
   "outputs": [
    {
     "data": {
      "text/plain": [
       "0.0"
      ]
     },
     "execution_count": 46,
     "metadata": {},
     "output_type": "execute_result"
    }
   ],
   "source": [
    "pronoun_density=(len(pos_dict['pronoun'])/len(word_count)) * 100\n",
    "pronoun_density"
   ]
  },
  {
   "cell_type": "code",
   "execution_count": 47,
   "metadata": {},
   "outputs": [
    {
     "data": {
      "text/plain": [
       "0.0"
      ]
     },
     "execution_count": 47,
     "metadata": {},
     "output_type": "execute_result"
    }
   ],
   "source": [
    "aux_density=(len(pos_dict['auxilary'])/len(word_count)) * 100\n",
    "aux_density"
   ]
  },
  {
   "cell_type": "markdown",
   "metadata": {},
   "source": [
    "---"
   ]
  },
  {
   "cell_type": "code",
   "execution_count": 48,
   "metadata": {},
   "outputs": [],
   "source": [
    "# Finding out the weightage of content words for the entire text"
   ]
  },
  {
   "cell_type": "code",
   "execution_count": 49,
   "metadata": {},
   "outputs": [],
   "source": [
    "content_weight=[]\n",
    "content_tags=['NOUN','ADJ','VERB','ADV','ADP','PRON','AUX']\n",
    "for contents in sentences:\n",
    "    for tokens in contents:\n",
    "        if tokens.pos_ in content_tags:\n",
    "           content_weight.append(tokens)\n",
    "           "
   ]
  },
  {
   "cell_type": "code",
   "execution_count": 50,
   "metadata": {},
   "outputs": [
    {
     "data": {
      "text/plain": [
       "[iron, is, mixed, ith, other, metals, like, tin, lead, prevent, rusting]"
      ]
     },
     "execution_count": 50,
     "metadata": {},
     "output_type": "execute_result"
    }
   ],
   "source": [
    "content_weight"
   ]
  },
  {
   "cell_type": "code",
   "execution_count": 51,
   "metadata": {},
   "outputs": [
    {
     "data": {
      "text/plain": [
       "84.61538461538461"
      ]
     },
     "execution_count": 51,
     "metadata": {},
     "output_type": "execute_result"
    }
   ],
   "source": [
    "# Overall weight of the content \n",
    "overall_content_weight=(len(content_weight)/len(word_count)) * 100\n",
    "overall_content_weight"
   ]
  },
  {
   "cell_type": "code",
   "execution_count": null,
   "metadata": {},
   "outputs": [],
   "source": []
  },
  {
   "cell_type": "code",
   "execution_count": null,
   "metadata": {},
   "outputs": [],
   "source": []
  }
 ],
 "metadata": {
  "kernelspec": {
   "display_name": "Python 3",
   "language": "python",
   "name": "python3"
  },
  "language_info": {
   "codemirror_mode": {
    "name": "ipython",
    "version": 3
   },
   "file_extension": ".py",
   "mimetype": "text/x-python",
   "name": "python",
   "nbconvert_exporter": "python",
   "pygments_lexer": "ipython3",
   "version": "3.6.0"
  }
 },
 "nbformat": 4,
 "nbformat_minor": 2
}
